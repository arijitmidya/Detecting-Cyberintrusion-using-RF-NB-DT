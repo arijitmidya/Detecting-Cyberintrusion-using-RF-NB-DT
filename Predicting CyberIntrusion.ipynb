{
 "cells": [
  {
   "cell_type": "markdown",
   "metadata": {},
   "source": [
    "## Detect Cyber Intrusion Using Machine Learning"
   ]
  },
  {
   "cell_type": "markdown",
   "metadata": {},
   "source": [
    "### Task 1: Import Libraries and Modules"
   ]
  },
  {
   "cell_type": "code",
   "execution_count": 2,
   "metadata": {},
   "outputs": [],
   "source": [
    "from sklearn.metrics import accuracy_score,f1_score,recall_score,precision_score\n",
    "from sklearn.model_selection import train_test_split\n",
    "import time\n",
    "import pandas as pd\n",
    "import numpy as np\n",
    "import matplotlib.pyplot as plt\n",
    "from sklearn.ensemble import RandomForestClassifier,VotingClassifier\n",
    "from sklearn.tree import DecisionTreeClassifier\n",
    "from sklearn.naive_bayes import GaussianNB\n",
    "from sklearn.metrics import accuracy_score,f1_score,recall_score,precision_score\n",
    "from sklearn.preprocessing import LabelEncoder, StandardScaler"
   ]
  },
  {
   "cell_type": "markdown",
   "metadata": {},
   "source": [
    "### Task 2: Preprocess the Dataset"
   ]
  },
  {
   "cell_type": "markdown",
   "metadata": {},
   "source": [
    "#### Load CSV file into a DataFrame\n",
    "\n",
    "You’ll use the SIMARGL2021 dataset, which is designed to evaluate the performance of intrusion detection systems. This dataset contains data associated with four types of cyber attacks: SYN scan, XMAS scan, NULL scan, and FIN scan.\r\n",
    "\r\n",
    "The dataset has 49 features and contains 1,047,597 network traffic flows. Here’s their breakdown:\r\n",
    "\r\n",
    "603,114 network traffic flows are associated with benign traffic.\r\n",
    "\r\n",
    "431,085 network traffic flows are associated with the SYN scan.\r\n",
    "\r\n",
    "7,158 network traffic flows are associated with the XMAS scan.\r\n",
    "\r\n",
    "6,060 network traffic flows are associated with the NULL scan.\r\n",
    "\r\n",
    "180 network traffic flows are associated with the FIN scan."
   ]
  },
  {
   "cell_type": "code",
   "execution_count": 3,
   "metadata": {},
   "outputs": [],
   "source": [
    "data_frame = df = pd.read_csv('/usercode/SIMARGL2021.csv')"
   ]
  },
  {
   "cell_type": "markdown",
   "metadata": {},
   "source": [
    "#### Display the first few rows of the CSV file\n"
   ]
  },
  {
   "cell_type": "code",
   "execution_count": 4,
   "metadata": {},
   "outputs": [
    {
     "data": {
      "text/plain": [
       "(1047597, 50)"
      ]
     },
     "execution_count": 4,
     "metadata": {},
     "output_type": "execute_result"
    }
   ],
   "source": [
    "data_frame.shape"
   ]
  },
  {
   "cell_type": "code",
   "execution_count": 5,
   "metadata": {},
   "outputs": [
    {
     "data": {
      "text/html": [
       "<div>\n",
       "<style scoped>\n",
       "    .dataframe tbody tr th:only-of-type {\n",
       "        vertical-align: middle;\n",
       "    }\n",
       "\n",
       "    .dataframe tbody tr th {\n",
       "        vertical-align: top;\n",
       "    }\n",
       "\n",
       "    .dataframe thead th {\n",
       "        text-align: right;\n",
       "    }\n",
       "</style>\n",
       "<table border=\"1\" class=\"dataframe\">\n",
       "  <thead>\n",
       "    <tr style=\"text-align: right;\">\n",
       "      <th></th>\n",
       "      <th>BIFLOW_DIRECTION</th>\n",
       "      <th>DIRECTION</th>\n",
       "      <th>DST_TO_SRC_SECOND_BYTES</th>\n",
       "      <th>FIREWALL_EVENT</th>\n",
       "      <th>FIRST_SWITCHED</th>\n",
       "      <th>FLOW_ACTIVE_TIMEOUT</th>\n",
       "      <th>FLOW_DURATION_MICROSECONDS</th>\n",
       "      <th>FLOW_DURATION_MILLISECONDS</th>\n",
       "      <th>FLOW_END_MILLISECONDS</th>\n",
       "      <th>FLOW_END_SEC</th>\n",
       "      <th>...</th>\n",
       "      <th>TCP_WIN_MSS_IN</th>\n",
       "      <th>TCP_WIN_MSS_OUT</th>\n",
       "      <th>TCP_WIN_SCALE_IN</th>\n",
       "      <th>TCP_WIN_SCALE_OUT</th>\n",
       "      <th>SRC_TOS</th>\n",
       "      <th>DST_TOS</th>\n",
       "      <th>L7_PROTO_NAME</th>\n",
       "      <th>SAMPLING_INTERVAL</th>\n",
       "      <th>TOTAL_FLOWS_EXP</th>\n",
       "      <th>LABEL</th>\n",
       "    </tr>\n",
       "  </thead>\n",
       "  <tbody>\n",
       "    <tr>\n",
       "      <th>0</th>\n",
       "      <td>1</td>\n",
       "      <td>0</td>\n",
       "      <td>138</td>\n",
       "      <td>0</td>\n",
       "      <td>1622174400</td>\n",
       "      <td>120</td>\n",
       "      <td>682</td>\n",
       "      <td>0</td>\n",
       "      <td>1.622170e+12</td>\n",
       "      <td>1622174400</td>\n",
       "      <td>...</td>\n",
       "      <td>0</td>\n",
       "      <td>0</td>\n",
       "      <td>0</td>\n",
       "      <td>0</td>\n",
       "      <td>0</td>\n",
       "      <td>0</td>\n",
       "      <td>DNS</td>\n",
       "      <td>1</td>\n",
       "      <td>1365973</td>\n",
       "      <td>Normal flow</td>\n",
       "    </tr>\n",
       "    <tr>\n",
       "      <th>1</th>\n",
       "      <td>1</td>\n",
       "      <td>0</td>\n",
       "      <td>75</td>\n",
       "      <td>0</td>\n",
       "      <td>1622174400</td>\n",
       "      <td>120</td>\n",
       "      <td>579</td>\n",
       "      <td>0</td>\n",
       "      <td>1.622170e+12</td>\n",
       "      <td>1622174400</td>\n",
       "      <td>...</td>\n",
       "      <td>0</td>\n",
       "      <td>0</td>\n",
       "      <td>0</td>\n",
       "      <td>0</td>\n",
       "      <td>0</td>\n",
       "      <td>0</td>\n",
       "      <td>DNS</td>\n",
       "      <td>1</td>\n",
       "      <td>1365974</td>\n",
       "      <td>Normal flow</td>\n",
       "    </tr>\n",
       "    <tr>\n",
       "      <th>2</th>\n",
       "      <td>1</td>\n",
       "      <td>0</td>\n",
       "      <td>40</td>\n",
       "      <td>0</td>\n",
       "      <td>1622174400</td>\n",
       "      <td>120</td>\n",
       "      <td>213</td>\n",
       "      <td>0</td>\n",
       "      <td>1.622170e+12</td>\n",
       "      <td>1622174400</td>\n",
       "      <td>...</td>\n",
       "      <td>0</td>\n",
       "      <td>0</td>\n",
       "      <td>0</td>\n",
       "      <td>0</td>\n",
       "      <td>40</td>\n",
       "      <td>40</td>\n",
       "      <td>Unknown</td>\n",
       "      <td>1</td>\n",
       "      <td>1365976</td>\n",
       "      <td>Normal flow</td>\n",
       "    </tr>\n",
       "    <tr>\n",
       "      <th>3</th>\n",
       "      <td>1</td>\n",
       "      <td>0</td>\n",
       "      <td>166</td>\n",
       "      <td>0</td>\n",
       "      <td>1622174400</td>\n",
       "      <td>120</td>\n",
       "      <td>257</td>\n",
       "      <td>0</td>\n",
       "      <td>1.622170e+12</td>\n",
       "      <td>1622174400</td>\n",
       "      <td>...</td>\n",
       "      <td>0</td>\n",
       "      <td>0</td>\n",
       "      <td>0</td>\n",
       "      <td>0</td>\n",
       "      <td>0</td>\n",
       "      <td>0</td>\n",
       "      <td>DNS</td>\n",
       "      <td>1</td>\n",
       "      <td>1365978</td>\n",
       "      <td>Normal flow</td>\n",
       "    </tr>\n",
       "    <tr>\n",
       "      <th>4</th>\n",
       "      <td>1</td>\n",
       "      <td>0</td>\n",
       "      <td>,</td>\n",
       "      <td>0</td>\n",
       "      <td>1622174400</td>\n",
       "      <td>120</td>\n",
       "      <td>0</td>\n",
       "      <td>0</td>\n",
       "      <td>1.622170e+12</td>\n",
       "      <td>1622174400</td>\n",
       "      <td>...</td>\n",
       "      <td>0</td>\n",
       "      <td>0</td>\n",
       "      <td>0</td>\n",
       "      <td>0</td>\n",
       "      <td>196</td>\n",
       "      <td>0</td>\n",
       "      <td>ICMP</td>\n",
       "      <td>1</td>\n",
       "      <td>1365979</td>\n",
       "      <td>Normal flow</td>\n",
       "    </tr>\n",
       "  </tbody>\n",
       "</table>\n",
       "<p>5 rows × 50 columns</p>\n",
       "</div>"
      ],
      "text/plain": [
       "   BIFLOW_DIRECTION  DIRECTION DST_TO_SRC_SECOND_BYTES  FIREWALL_EVENT  \\\n",
       "0                 1          0                     138               0   \n",
       "1                 1          0                      75               0   \n",
       "2                 1          0                      40               0   \n",
       "3                 1          0                     166               0   \n",
       "4                 1          0                       ,               0   \n",
       "\n",
       "   FIRST_SWITCHED  FLOW_ACTIVE_TIMEOUT  FLOW_DURATION_MICROSECONDS  \\\n",
       "0      1622174400                  120                         682   \n",
       "1      1622174400                  120                         579   \n",
       "2      1622174400                  120                         213   \n",
       "3      1622174400                  120                         257   \n",
       "4      1622174400                  120                           0   \n",
       "\n",
       "   FLOW_DURATION_MILLISECONDS  FLOW_END_MILLISECONDS  FLOW_END_SEC  ...  \\\n",
       "0                           0           1.622170e+12    1622174400  ...   \n",
       "1                           0           1.622170e+12    1622174400  ...   \n",
       "2                           0           1.622170e+12    1622174400  ...   \n",
       "3                           0           1.622170e+12    1622174400  ...   \n",
       "4                           0           1.622170e+12    1622174400  ...   \n",
       "\n",
       "   TCP_WIN_MSS_IN  TCP_WIN_MSS_OUT  TCP_WIN_SCALE_IN  TCP_WIN_SCALE_OUT  \\\n",
       "0               0                0                 0                  0   \n",
       "1               0                0                 0                  0   \n",
       "2               0                0                 0                  0   \n",
       "3               0                0                 0                  0   \n",
       "4               0                0                 0                  0   \n",
       "\n",
       "   SRC_TOS  DST_TOS  L7_PROTO_NAME SAMPLING_INTERVAL TOTAL_FLOWS_EXP  \\\n",
       "0        0        0            DNS                 1         1365973   \n",
       "1        0        0            DNS                 1         1365974   \n",
       "2       40       40        Unknown                 1         1365976   \n",
       "3        0        0            DNS                 1         1365978   \n",
       "4      196        0           ICMP                 1         1365979   \n",
       "\n",
       "         LABEL  \n",
       "0  Normal flow  \n",
       "1  Normal flow  \n",
       "2  Normal flow  \n",
       "3  Normal flow  \n",
       "4  Normal flow  \n",
       "\n",
       "[5 rows x 50 columns]"
      ]
     },
     "execution_count": 5,
     "metadata": {},
     "output_type": "execute_result"
    }
   ],
   "source": [
    "data_frame.head()"
   ]
  },
  {
   "cell_type": "markdown",
   "metadata": {},
   "source": [
    "#### Select the 15 features\n",
    "\n",
    "he SIMARGL2021 dataset contains 49 features. However, not all those features contribute significantly to attack detection. Therefore, select only the following 15 features from the list of 49 features: DST_TOS, SRC_TOS, TCP_WIN_SCALE_IN, TCP_WIN_SCALE_OUT, TCP_FLAGS, TCP_WIN_MAX_OUT, PROTOCOL, TCP_WIN_MIN_OUT, TCP_WIN_MIN_IN, TCP_WIN_MAX_IN, LAST_SWTICHED, TCP_WIN_MSS_IN, TOTAL_FLOWS_EXP, FIRST_SWITCHED, FLOW_DURATION_MILLISECONDS.\n"
   ]
  },
  {
   "cell_type": "code",
   "execution_count": 6,
   "metadata": {},
   "outputs": [
    {
     "data": {
      "text/html": [
       "<div>\n",
       "<style scoped>\n",
       "    .dataframe tbody tr th:only-of-type {\n",
       "        vertical-align: middle;\n",
       "    }\n",
       "\n",
       "    .dataframe tbody tr th {\n",
       "        vertical-align: top;\n",
       "    }\n",
       "\n",
       "    .dataframe thead th {\n",
       "        text-align: right;\n",
       "    }\n",
       "</style>\n",
       "<table border=\"1\" class=\"dataframe\">\n",
       "  <thead>\n",
       "    <tr style=\"text-align: right;\">\n",
       "      <th></th>\n",
       "      <th>DST_TOS</th>\n",
       "      <th>SRC_TOS</th>\n",
       "      <th>TCP_WIN_SCALE_OUT</th>\n",
       "      <th>TCP_WIN_SCALE_IN</th>\n",
       "      <th>TCP_FLAGS</th>\n",
       "      <th>TCP_WIN_MAX_OUT</th>\n",
       "      <th>PROTOCOL</th>\n",
       "      <th>TCP_WIN_MIN_OUT</th>\n",
       "      <th>TCP_WIN_MIN_IN</th>\n",
       "      <th>TCP_WIN_MAX_IN</th>\n",
       "      <th>LAST_SWITCHED</th>\n",
       "      <th>TCP_WIN_MSS_IN</th>\n",
       "      <th>TOTAL_FLOWS_EXP</th>\n",
       "      <th>FIRST_SWITCHED</th>\n",
       "      <th>FLOW_DURATION_MILLISECONDS</th>\n",
       "      <th>LABEL</th>\n",
       "    </tr>\n",
       "  </thead>\n",
       "  <tbody>\n",
       "    <tr>\n",
       "      <th>0</th>\n",
       "      <td>0</td>\n",
       "      <td>0</td>\n",
       "      <td>0</td>\n",
       "      <td>0</td>\n",
       "      <td>0</td>\n",
       "      <td>0</td>\n",
       "      <td>17</td>\n",
       "      <td>0</td>\n",
       "      <td>0</td>\n",
       "      <td>0</td>\n",
       "      <td>1622174400</td>\n",
       "      <td>0</td>\n",
       "      <td>1365973</td>\n",
       "      <td>1622174400</td>\n",
       "      <td>0</td>\n",
       "      <td>Normal flow</td>\n",
       "    </tr>\n",
       "    <tr>\n",
       "      <th>1</th>\n",
       "      <td>0</td>\n",
       "      <td>0</td>\n",
       "      <td>0</td>\n",
       "      <td>0</td>\n",
       "      <td>0</td>\n",
       "      <td>0</td>\n",
       "      <td>17</td>\n",
       "      <td>0</td>\n",
       "      <td>0</td>\n",
       "      <td>0</td>\n",
       "      <td>1622174400</td>\n",
       "      <td>0</td>\n",
       "      <td>1365974</td>\n",
       "      <td>1622174400</td>\n",
       "      <td>0</td>\n",
       "      <td>Normal flow</td>\n",
       "    </tr>\n",
       "    <tr>\n",
       "      <th>2</th>\n",
       "      <td>40</td>\n",
       "      <td>40</td>\n",
       "      <td>0</td>\n",
       "      <td>0</td>\n",
       "      <td>22</td>\n",
       "      <td>0</td>\n",
       "      <td>6</td>\n",
       "      <td>0</td>\n",
       "      <td>1024</td>\n",
       "      <td>1024</td>\n",
       "      <td>1622174400</td>\n",
       "      <td>0</td>\n",
       "      <td>1365976</td>\n",
       "      <td>1622174400</td>\n",
       "      <td>0</td>\n",
       "      <td>Normal flow</td>\n",
       "    </tr>\n",
       "    <tr>\n",
       "      <th>3</th>\n",
       "      <td>0</td>\n",
       "      <td>0</td>\n",
       "      <td>0</td>\n",
       "      <td>0</td>\n",
       "      <td>0</td>\n",
       "      <td>0</td>\n",
       "      <td>17</td>\n",
       "      <td>0</td>\n",
       "      <td>0</td>\n",
       "      <td>0</td>\n",
       "      <td>1622174400</td>\n",
       "      <td>0</td>\n",
       "      <td>1365978</td>\n",
       "      <td>1622174400</td>\n",
       "      <td>0</td>\n",
       "      <td>Normal flow</td>\n",
       "    </tr>\n",
       "    <tr>\n",
       "      <th>4</th>\n",
       "      <td>0</td>\n",
       "      <td>196</td>\n",
       "      <td>0</td>\n",
       "      <td>0</td>\n",
       "      <td>0</td>\n",
       "      <td>0</td>\n",
       "      <td>1</td>\n",
       "      <td>0</td>\n",
       "      <td>0</td>\n",
       "      <td>0</td>\n",
       "      <td>1622174400</td>\n",
       "      <td>0</td>\n",
       "      <td>1365979</td>\n",
       "      <td>1622174400</td>\n",
       "      <td>0</td>\n",
       "      <td>Normal flow</td>\n",
       "    </tr>\n",
       "  </tbody>\n",
       "</table>\n",
       "</div>"
      ],
      "text/plain": [
       "   DST_TOS  SRC_TOS  TCP_WIN_SCALE_OUT  TCP_WIN_SCALE_IN  TCP_FLAGS  \\\n",
       "0        0        0                  0                 0          0   \n",
       "1        0        0                  0                 0          0   \n",
       "2       40       40                  0                 0         22   \n",
       "3        0        0                  0                 0          0   \n",
       "4        0      196                  0                 0          0   \n",
       "\n",
       "   TCP_WIN_MAX_OUT  PROTOCOL  TCP_WIN_MIN_OUT  TCP_WIN_MIN_IN  TCP_WIN_MAX_IN  \\\n",
       "0                0        17                0               0               0   \n",
       "1                0        17                0               0               0   \n",
       "2                0         6                0            1024            1024   \n",
       "3                0        17                0               0               0   \n",
       "4                0         1                0               0               0   \n",
       "\n",
       "   LAST_SWITCHED  TCP_WIN_MSS_IN  TOTAL_FLOWS_EXP  FIRST_SWITCHED  \\\n",
       "0     1622174400               0          1365973      1622174400   \n",
       "1     1622174400               0          1365974      1622174400   \n",
       "2     1622174400               0          1365976      1622174400   \n",
       "3     1622174400               0          1365978      1622174400   \n",
       "4     1622174400               0          1365979      1622174400   \n",
       "\n",
       "   FLOW_DURATION_MILLISECONDS        LABEL  \n",
       "0                           0  Normal flow  \n",
       "1                           0  Normal flow  \n",
       "2                           0  Normal flow  \n",
       "3                           0  Normal flow  \n",
       "4                           0  Normal flow  "
      ]
     },
     "execution_count": 6,
     "metadata": {},
     "output_type": "execute_result"
    }
   ],
   "source": [
    "selected_columns = [\n",
    "'DST_TOS', 'SRC_TOS', 'TCP_WIN_SCALE_OUT', 'TCP_WIN_SCALE_IN', 'TCP_FLAGS','TCP_WIN_MAX_OUT', 'PROTOCOL', 'TCP_WIN_MIN_OUT', 'TCP_WIN_MIN_IN','TCP_WIN_MAX_IN', 'LAST_SWITCHED', 'TCP_WIN_MSS_IN', 'TOTAL_FLOWS_EXP','FIRST_SWITCHED', 'FLOW_DURATION_MILLISECONDS', 'LABEL'\n",
    "]\n",
    "data_frame = data_frame[selected_columns]\n",
    "data_frame.head()"
   ]
  },
  {
   "cell_type": "markdown",
   "metadata": {},
   "source": [
    "#### Remove duplicate rows"
   ]
  },
  {
   "cell_type": "code",
   "execution_count": 7,
   "metadata": {},
   "outputs": [
    {
     "name": "stderr",
     "output_type": "stream",
     "text": [
      "/tmp/ipykernel_147/1689651136.py:1: SettingWithCopyWarning: \n",
      "A value is trying to be set on a copy of a slice from a DataFrame\n",
      "\n",
      "See the caveats in the documentation: https://pandas.pydata.org/pandas-docs/stable/user_guide/indexing.html#returning-a-view-versus-a-copy\n",
      "  data_frame.drop_duplicates(inplace=True)\n"
     ]
    }
   ],
   "source": [
    "data_frame.drop_duplicates(inplace=True)"
   ]
  },
  {
   "cell_type": "code",
   "execution_count": 8,
   "metadata": {},
   "outputs": [
    {
     "data": {
      "text/plain": [
       "(927840, 16)"
      ]
     },
     "execution_count": 8,
     "metadata": {},
     "output_type": "execute_result"
    }
   ],
   "source": [
    "data_frame.shape"
   ]
  },
  {
   "cell_type": "markdown",
   "metadata": {},
   "source": [
    "### Task 3: Explore the Dataset\n",
    "\n",
    "The number of total rows in the dataset\r\n",
    "\r\n",
    "The different types of labels in the dataset\r\n",
    "\r\n",
    "The number of instances/rows that belong to each label type\r\n",
    "\r\n",
    "The types of attacks present in the dataset"
   ]
  },
  {
   "cell_type": "markdown",
   "metadata": {},
   "source": [
    "#### Display each label and its count via a bar graph\n"
   ]
  },
  {
   "cell_type": "code",
   "execution_count": 9,
   "metadata": {},
   "outputs": [
    {
     "data": {
      "image/png": "[encoded data removed]",
      "text/plain": [
       "<Figure size 640x480 with 1 Axes>"
      ]
     },
     "metadata": {},
     "output_type": "display_data"
    }
   ],
   "source": [
    "grouped_data = data_frame.groupby('LABEL').size()\n",
    "fig, ax = plt.subplots(1)\n",
    "ax.bar(grouped_data.index, grouped_data.values)\n",
    "ax.set(xlabel='LABEL', ylabel='Distinct Count')\n",
    "plt.xticks(rotation=90)\n",
    "plt.show()"
   ]
  },
  {
   "cell_type": "code",
   "execution_count": 10,
   "metadata": {},
   "outputs": [
    {
     "data": {
      "text/plain": [
       "LABEL\n",
       "Normal flow              543710\n",
       "SYN Scan - aggressive    370732\n",
       "XMAS Scan                  7158\n",
       "NULL Scan                  6060\n",
       "FIN Scan                    180\n",
       "Name: count, dtype: int64"
      ]
     },
     "execution_count": 10,
     "metadata": {},
     "output_type": "execute_result"
    }
   ],
   "source": [
    "data_frame['LABEL'].value_counts()"
   ]
  },
  {
   "cell_type": "markdown",
   "metadata": {},
   "source": [
    "#### Plot the distinct counts"
   ]
  },
  {
   "cell_type": "code",
   "execution_count": 11,
   "metadata": {},
   "outputs": [
    {
     "data": {
      "image/png": "[encoded data removed]",
      "text/plain": [
       "<Figure size 800x800 with 1 Axes>"
      ]
     },
     "metadata": {},
     "output_type": "display_data"
    }
   ],
   "source": [
    "grouped_data = data_frame['LABEL'].value_counts()\n",
    "fig, ax = plt.subplots(figsize=(8,8))\n",
    "ax.pie(grouped_data.values, labels=grouped_data.index, autopct='%1.1f%%', textprops={'fontsize': 5})\n",
    "ax.set_title('Distribution of LABEL')\n",
    "plt.show()"
   ]
  },
  {
   "cell_type": "markdown",
   "metadata": {},
   "source": [
    "### Task 4: Standardize and Encode the Data\n",
    "\n",
    "In the SIMARGL2021 dataset, several features (e.g., FLOW_ID and IN_BYTES) are numerical. You need to normalize these numerical features to ensure that all the features are on a similar scale. This can improve the performance of machine learning models that rely on numerical computations. Similarly, you also need to label and encode the nonnumerical features (e.g., protocol name) of the dataset.\r\n",
    "\r\n",
    "To complete this task, perform the following steps:\r\n",
    "\r\n",
    "Convert the nonnumerical features into a numerical format.\r\n",
    "\r\n",
    "Once all the features are in numerical format, standardize/normalize all of them."
   ]
  },
  {
   "cell_type": "markdown",
   "metadata": {},
   "source": [
    "#### Create a copy of the data"
   ]
  },
  {
   "cell_type": "code",
   "execution_count": 12,
   "metadata": {},
   "outputs": [],
   "source": [
    "normalized_data = data_frame.copy()\n",
    "numerical_columns = normalized_data.select_dtypes(include=['float64', 'int64']).columns"
   ]
  },
  {
   "cell_type": "code",
   "execution_count": 13,
   "metadata": {},
   "outputs": [
    {
     "data": {
      "text/plain": [
       "Index(['DST_TOS', 'SRC_TOS', 'TCP_WIN_SCALE_OUT', 'TCP_WIN_SCALE_IN',\n",
       "       'TCP_FLAGS', 'TCP_WIN_MAX_OUT', 'PROTOCOL', 'TCP_WIN_MIN_OUT',\n",
       "       'TCP_WIN_MIN_IN', 'TCP_WIN_MAX_IN', 'LAST_SWITCHED', 'TCP_WIN_MSS_IN',\n",
       "       'TOTAL_FLOWS_EXP', 'FIRST_SWITCHED', 'FLOW_DURATION_MILLISECONDS'],\n",
       "      dtype='object')"
      ]
     },
     "execution_count": 13,
     "metadata": {},
     "output_type": "execute_result"
    }
   ],
   "source": [
    "numerical_columns"
   ]
  },
  {
   "cell_type": "markdown",
   "metadata": {},
   "source": [
    "#### Extract the numerical columns to be normalized"
   ]
  },
  {
   "cell_type": "code",
   "execution_count": 14,
   "metadata": {},
   "outputs": [],
   "source": [
    "non_numerical_columns = normalized_data.select_dtypes(exclude=['float64', 'int64']).columns"
   ]
  },
  {
   "cell_type": "code",
   "execution_count": 15,
   "metadata": {},
   "outputs": [
    {
     "data": {
      "text/plain": [
       "Index(['LABEL'], dtype='object')"
      ]
     },
     "execution_count": 15,
     "metadata": {},
     "output_type": "execute_result"
    }
   ],
   "source": [
    "non_numerical_columns"
   ]
  },
  {
   "cell_type": "markdown",
   "metadata": {},
   "source": [
    "#### Extract the non-numerical columns to be label encoded"
   ]
  },
  {
   "cell_type": "code",
   "execution_count": 16,
   "metadata": {},
   "outputs": [],
   "source": [
    "label_encoder = LabelEncoder()\n",
    "normalized_data[non_numerical_columns] = normalized_data[non_numerical_columns].apply(label_encoder.fit_transform)"
   ]
  },
  {
   "cell_type": "markdown",
   "metadata": {},
   "source": [
    "#### Standardize the numerical columns"
   ]
  },
  {
   "cell_type": "code",
   "execution_count": 17,
   "metadata": {},
   "outputs": [],
   "source": [
    "scaler = StandardScaler() \n",
    "normalized_data[numerical_columns] = scaler.fit_transform(normalized_data[numerical_columns])"
   ]
  },
  {
   "cell_type": "code",
   "execution_count": 18,
   "metadata": {},
   "outputs": [
    {
     "data": {
      "text/html": [
       "<div>\n",
       "<style scoped>\n",
       "    .dataframe tbody tr th:only-of-type {\n",
       "        vertical-align: middle;\n",
       "    }\n",
       "\n",
       "    .dataframe tbody tr th {\n",
       "        vertical-align: top;\n",
       "    }\n",
       "\n",
       "    .dataframe thead th {\n",
       "        text-align: right;\n",
       "    }\n",
       "</style>\n",
       "<table border=\"1\" class=\"dataframe\">\n",
       "  <thead>\n",
       "    <tr style=\"text-align: right;\">\n",
       "      <th></th>\n",
       "      <th>DST_TOS</th>\n",
       "      <th>SRC_TOS</th>\n",
       "      <th>TCP_WIN_SCALE_OUT</th>\n",
       "      <th>TCP_WIN_SCALE_IN</th>\n",
       "      <th>TCP_FLAGS</th>\n",
       "      <th>TCP_WIN_MAX_OUT</th>\n",
       "      <th>PROTOCOL</th>\n",
       "      <th>TCP_WIN_MIN_OUT</th>\n",
       "      <th>TCP_WIN_MIN_IN</th>\n",
       "      <th>TCP_WIN_MAX_IN</th>\n",
       "      <th>LAST_SWITCHED</th>\n",
       "      <th>TCP_WIN_MSS_IN</th>\n",
       "      <th>TOTAL_FLOWS_EXP</th>\n",
       "      <th>FIRST_SWITCHED</th>\n",
       "      <th>FLOW_DURATION_MILLISECONDS</th>\n",
       "      <th>LABEL</th>\n",
       "    </tr>\n",
       "  </thead>\n",
       "  <tbody>\n",
       "    <tr>\n",
       "      <th>0</th>\n",
       "      <td>-0.202520</td>\n",
       "      <td>-0.275953</td>\n",
       "      <td>-0.304294</td>\n",
       "      <td>-0.340399</td>\n",
       "      <td>-1.094170</td>\n",
       "      <td>-0.296931</td>\n",
       "      <td>1.602891</td>\n",
       "      <td>-0.296429</td>\n",
       "      <td>-0.373770</td>\n",
       "      <td>-0.377188</td>\n",
       "      <td>0.798357</td>\n",
       "      <td>-1.065921</td>\n",
       "      <td>-0.822983</td>\n",
       "      <td>0.798359</td>\n",
       "      <td>-0.199755</td>\n",
       "      <td>2</td>\n",
       "    </tr>\n",
       "    <tr>\n",
       "      <th>1</th>\n",
       "      <td>-0.202520</td>\n",
       "      <td>-0.275953</td>\n",
       "      <td>-0.304294</td>\n",
       "      <td>-0.340399</td>\n",
       "      <td>-1.094170</td>\n",
       "      <td>-0.296931</td>\n",
       "      <td>1.602891</td>\n",
       "      <td>-0.296429</td>\n",
       "      <td>-0.373770</td>\n",
       "      <td>-0.377188</td>\n",
       "      <td>0.798357</td>\n",
       "      <td>-1.065921</td>\n",
       "      <td>-0.822982</td>\n",
       "      <td>0.798359</td>\n",
       "      <td>-0.199755</td>\n",
       "      <td>2</td>\n",
       "    </tr>\n",
       "    <tr>\n",
       "      <th>2</th>\n",
       "      <td>1.521307</td>\n",
       "      <td>0.913199</td>\n",
       "      <td>-0.304294</td>\n",
       "      <td>-0.340399</td>\n",
       "      <td>0.773889</td>\n",
       "      <td>-0.296931</td>\n",
       "      <td>-0.512673</td>\n",
       "      <td>-0.296429</td>\n",
       "      <td>-0.312306</td>\n",
       "      <td>-0.316160</td>\n",
       "      <td>0.798357</td>\n",
       "      <td>-1.065921</td>\n",
       "      <td>-0.822981</td>\n",
       "      <td>0.798359</td>\n",
       "      <td>-0.199755</td>\n",
       "      <td>2</td>\n",
       "    </tr>\n",
       "    <tr>\n",
       "      <th>3</th>\n",
       "      <td>-0.202520</td>\n",
       "      <td>-0.275953</td>\n",
       "      <td>-0.304294</td>\n",
       "      <td>-0.340399</td>\n",
       "      <td>-1.094170</td>\n",
       "      <td>-0.296931</td>\n",
       "      <td>1.602891</td>\n",
       "      <td>-0.296429</td>\n",
       "      <td>-0.373770</td>\n",
       "      <td>-0.377188</td>\n",
       "      <td>0.798357</td>\n",
       "      <td>-1.065921</td>\n",
       "      <td>-0.822980</td>\n",
       "      <td>0.798359</td>\n",
       "      <td>-0.199755</td>\n",
       "      <td>2</td>\n",
       "    </tr>\n",
       "    <tr>\n",
       "      <th>4</th>\n",
       "      <td>-0.202520</td>\n",
       "      <td>5.550894</td>\n",
       "      <td>-0.304294</td>\n",
       "      <td>-0.340399</td>\n",
       "      <td>-1.094170</td>\n",
       "      <td>-0.296931</td>\n",
       "      <td>-1.474293</td>\n",
       "      <td>-0.296429</td>\n",
       "      <td>-0.373770</td>\n",
       "      <td>-0.377188</td>\n",
       "      <td>0.798357</td>\n",
       "      <td>-1.065921</td>\n",
       "      <td>-0.822979</td>\n",
       "      <td>0.798359</td>\n",
       "      <td>-0.199755</td>\n",
       "      <td>2</td>\n",
       "    </tr>\n",
       "  </tbody>\n",
       "</table>\n",
       "</div>"
      ],
      "text/plain": [
       "    DST_TOS   SRC_TOS  TCP_WIN_SCALE_OUT  TCP_WIN_SCALE_IN  TCP_FLAGS  \\\n",
       "0 -0.202520 -0.275953          -0.304294         -0.340399  -1.094170   \n",
       "1 -0.202520 -0.275953          -0.304294         -0.340399  -1.094170   \n",
       "2  1.521307  0.913199          -0.304294         -0.340399   0.773889   \n",
       "3 -0.202520 -0.275953          -0.304294         -0.340399  -1.094170   \n",
       "4 -0.202520  5.550894          -0.304294         -0.340399  -1.094170   \n",
       "\n",
       "   TCP_WIN_MAX_OUT  PROTOCOL  TCP_WIN_MIN_OUT  TCP_WIN_MIN_IN  TCP_WIN_MAX_IN  \\\n",
       "0        -0.296931  1.602891        -0.296429       -0.373770       -0.377188   \n",
       "1        -0.296931  1.602891        -0.296429       -0.373770       -0.377188   \n",
       "2        -0.296931 -0.512673        -0.296429       -0.312306       -0.316160   \n",
       "3        -0.296931  1.602891        -0.296429       -0.373770       -0.377188   \n",
       "4        -0.296931 -1.474293        -0.296429       -0.373770       -0.377188   \n",
       "\n",
       "   LAST_SWITCHED  TCP_WIN_MSS_IN  TOTAL_FLOWS_EXP  FIRST_SWITCHED  \\\n",
       "0       0.798357       -1.065921        -0.822983        0.798359   \n",
       "1       0.798357       -1.065921        -0.822982        0.798359   \n",
       "2       0.798357       -1.065921        -0.822981        0.798359   \n",
       "3       0.798357       -1.065921        -0.822980        0.798359   \n",
       "4       0.798357       -1.065921        -0.822979        0.798359   \n",
       "\n",
       "   FLOW_DURATION_MILLISECONDS  LABEL  \n",
       "0                   -0.199755      2  \n",
       "1                   -0.199755      2  \n",
       "2                   -0.199755      2  \n",
       "3                   -0.199755      2  \n",
       "4                   -0.199755      2  "
      ]
     },
     "execution_count": 18,
     "metadata": {},
     "output_type": "execute_result"
    }
   ],
   "source": [
    "normalized_data.head()"
   ]
  },
  {
   "cell_type": "markdown",
   "metadata": {},
   "source": [
    "### Task 5: Separate Labels and Split Data into Train and Test Subsets\n",
    "\n",
    "Now that the dataset is normalized, you need to split it into two parts by extracting the target LABEL column. \r\n",
    "\r\n",
    "The first part will have all the columns of the data except the last column, i.e., the LABEL column. The second part will have only one column, i.e., the LABEL column.\r\n",
    "\r\n",
    "After splitting the data based on columns, you then need to split the dataset into two parts: 70% for training and 30% for test\n",
    "ing."
   ]
  },
  {
   "cell_type": "markdown",
   "metadata": {},
   "source": [
    "#### Separate data and labels"
   ]
  },
  {
   "cell_type": "code",
   "execution_count": 19,
   "metadata": {},
   "outputs": [],
   "source": [
    "X = normalized_data.drop(columns=['LABEL'],axis=1)\n",
    "\n",
    "Y = normalized_data['LABEL']"
   ]
  },
  {
   "cell_type": "markdown",
   "metadata": {},
   "source": [
    "#### Split data into train and test subsets\n"
   ]
  },
  {
   "cell_type": "code",
   "execution_count": 20,
   "metadata": {},
   "outputs": [],
   "source": [
    "X_train, X_test, y_train, y_test = train_test_split (X, Y, test_size=0.3, random_state=42)"
   ]
  },
  {
   "cell_type": "markdown",
   "metadata": {},
   "source": [
    "### Task 6: Train Random Forest\n",
    "\n",
    "Random forest is a powerful and widely used machine learning algorithm method, particularly suitable for classification and regression tasks. Random forest combines multiple decision trees to improve detection accuracy and reduce overfitting.\r\n",
    "\r\n",
    "During the training process, the random forest classifier learns patterns and relationships in the training data. This learning is then used to make accurate predictions when presented with new unseen data.\r\n",
    "\r\n",
    "Because you have already split the data into training and testing subsets, in this task, you’ll train the classifier using the training data and measure the training time."
   ]
  },
  {
   "cell_type": "markdown",
   "metadata": {},
   "source": [
    "#### Create a random forest classifier"
   ]
  },
  {
   "cell_type": "code",
   "execution_count": 21,
   "metadata": {},
   "outputs": [],
   "source": [
    "rf_classifier = RandomForestClassifier(n_estimators=30)"
   ]
  },
  {
   "cell_type": "markdown",
   "metadata": {},
   "source": [
    "#### Measure the training time"
   ]
  },
  {
   "cell_type": "code",
   "execution_count": 22,
   "metadata": {},
   "outputs": [],
   "source": [
    "start_time = time.time() \n",
    "rf_classifier.fit(X_train, y_train)\n",
    "end_time = time.time()\n",
    "training_timeRFC = end_time - start_time"
   ]
  },
  {
   "cell_type": "code",
   "execution_count": 23,
   "metadata": {},
   "outputs": [
    {
     "data": {
      "text/plain": [
       "16.205549001693726"
      ]
     },
     "execution_count": 23,
     "metadata": {},
     "output_type": "execute_result"
    }
   ],
   "source": [
    "training_timeRFC"
   ]
  },
  {
   "cell_type": "markdown",
   "metadata": {},
   "source": [
    "### Task 7: Test Random Forest\n",
    "\n",
    "Make predictions on the test dataset.\r\n",
    "\r\n",
    "Calculate the accuracy of the random forest classifier by comparing the predicted labels with the true labels.\r\n",
    "\r\n",
    "Calculate the F1 score, which is the harmonic mean of precision and recall.\r\n",
    "\r\n",
    "Calculate the precision score, which is the ratio of the positive predictions to total positive predictions.\r\n",
    "\r\n",
    "Calculate the recall score, which is the ratio of true positive predictions to total actual positive instances."
   ]
  },
  {
   "cell_type": "markdown",
   "metadata": {},
   "source": [
    "#### Make predictions on the test set\n"
   ]
  },
  {
   "cell_type": "code",
   "execution_count": 24,
   "metadata": {},
   "outputs": [],
   "source": [
    "y_pred = rf_classifier.predict(X_test)"
   ]
  },
  {
   "cell_type": "code",
   "execution_count": 25,
   "metadata": {},
   "outputs": [
    {
     "data": {
      "text/plain": [
       "array([2, 3, 3, ..., 2, 3, 3])"
      ]
     },
     "execution_count": 25,
     "metadata": {},
     "output_type": "execute_result"
    }
   ],
   "source": [
    "y_pred"
   ]
  },
  {
   "cell_type": "markdown",
   "metadata": {},
   "source": [
    "#### Calculate and print the accuracy, F1 score, precision, and recall"
   ]
  },
  {
   "cell_type": "code",
   "execution_count": 26,
   "metadata": {},
   "outputs": [
    {
     "name": "stdout",
     "output_type": "stream",
     "text": [
      "Training time: 16.205549001693726\n",
      "Accuracy: 0.9985988963614416\n",
      "F1 Score: 0.9986036945672273\n",
      "Precision: 0.9986091785916803\n",
      "Recall: 0.9985988963614416\n"
     ]
    }
   ],
   "source": [
    "accuracyRFC = accuracy_score(y_test, y_pred)\n",
    "f1 = f1_score(y_test, y_pred, average='weighted') \n",
    "precision = precision_score(y_test, y_pred,average='weighted')  \n",
    "recall = recall_score(y_test, y_pred, average='weighted')\n",
    "print(\"Training time:\", training_timeRFC)\n",
    "print(\"Accuracy:\", accuracyRFC)\n",
    "print(\"F1 Score:\", f1)\n",
    "print(\"Precision:\", precision)\n",
    "print(\"Recall:\", recall)"
   ]
  },
  {
   "cell_type": "markdown",
   "metadata": {},
   "source": [
    "### Task 8: Train Decision Tree\n",
    "\n",
    "The decision tree algorithm works by recursively partitioning the input data into subsets based on the values of input features. It’s a supervised learning algorithm that can be used for both classification and regression tasks.\r\n",
    "\r\n",
    "In this task, you’ll train the decision tree classifier and measure the training time."
   ]
  },
  {
   "cell_type": "markdown",
   "metadata": {},
   "source": [
    "#### Create a DecisionTreeClassifier with criterion='entropy' and max_depth=4"
   ]
  },
  {
   "cell_type": "code",
   "execution_count": 27,
   "metadata": {},
   "outputs": [],
   "source": [
    "dt_classifier = DecisionTreeClassifier(criterion='entropy',max_depth=4)"
   ]
  },
  {
   "cell_type": "markdown",
   "metadata": {},
   "source": [
    "#### Measure the training time\n"
   ]
  },
  {
   "cell_type": "code",
   "execution_count": 28,
   "metadata": {},
   "outputs": [
    {
     "data": {
      "text/plain": [
       "1.6994991302490234"
      ]
     },
     "execution_count": 28,
     "metadata": {},
     "output_type": "execute_result"
    }
   ],
   "source": [
    "start_time = time.time()\n",
    "dt_classifier.fit(X_train, y_train)\n",
    "end_time = time.time()\n",
    "training_timeDT = end_time - start_time\n",
    "training_timeDT"
   ]
  },
  {
   "cell_type": "markdown",
   "metadata": {},
   "source": [
    "### Task 9: Test Decision Tree"
   ]
  },
  {
   "cell_type": "markdown",
   "metadata": {},
   "source": [
    "#### Make predictions on the test set\n",
    "\n",
    "Test the decision tree classifier.\r\n",
    "\r\n",
    "Measure the accuracy, F1 score, precision, and recall for the decision tree classifier."
   ]
  },
  {
   "cell_type": "code",
   "execution_count": 29,
   "metadata": {},
   "outputs": [],
   "source": [
    "y_pred = dt_classifier.predict(X_test)"
   ]
  },
  {
   "cell_type": "code",
   "execution_count": 30,
   "metadata": {},
   "outputs": [
    {
     "data": {
      "text/plain": [
       "2    161842\n",
       "3    111376\n",
       "4      3173\n",
       "1      1961\n",
       "Name: count, dtype: int64"
      ]
     },
     "execution_count": 30,
     "metadata": {},
     "output_type": "execute_result"
    }
   ],
   "source": [
    "pd.Series(y_pred).value_counts()"
   ]
  },
  {
   "cell_type": "markdown",
   "metadata": {},
   "source": [
    "#### Calculate and print the accuracy, F1 score, precision, and recall"
   ]
  },
  {
   "cell_type": "code",
   "execution_count": 31,
   "metadata": {},
   "outputs": [
    {
     "name": "stdout",
     "output_type": "stream",
     "text": [
      "Training time: 1.6994991302490234\n",
      "Accuracy: 0.9955056906363166\n",
      "F1 Score: 0.995816927472435\n",
      "Precision: 0.9966325907822287\n",
      "Recall: 0.9955056906363166\n"
     ]
    },
    {
     "name": "stderr",
     "output_type": "stream",
     "text": [
      "/usr/local/lib/python3.8/dist-packages/sklearn/metrics/_classification.py:1471: UndefinedMetricWarning: Precision is ill-defined and being set to 0.0 in labels with no predicted samples. Use `zero_division` parameter to control this behavior.\n",
      "  _warn_prf(average, modifier, msg_start, len(result))\n"
     ]
    }
   ],
   "source": [
    "accuracyDT = accuracy_score(y_test, y_pred)\n",
    "f1 = f1_score(y_test, y_pred, average='weighted')  \n",
    "precision = precision_score(y_test, y_pred, average='weighted')\n",
    "recall = recall_score(y_test, y_pred, average='weighted')\n",
    "\n",
    "print(\"Training time:\", training_timeDT)\n",
    "print(\"Accuracy:\", accuracyDT)\n",
    "print(\"F1 Score:\", f1)\n",
    "print(\"Precision:\", precision)\n",
    "print(\"Recall:\", recall)"
   ]
  },
  {
   "cell_type": "markdown",
   "metadata": {},
   "source": [
    "### Task 10: Train Naive Bayes\n",
    "\n",
    "Gaussian Naive Bayes (GNB) is a probabilistic machine learning algorithm based on Bayes’ theorem and the “naive” assumption of conditional independence between features. It’s particularly useful for classification tasks, where the goal is to assign an input data point to one of several predefined classes or categories.\r\n",
    "\r\n",
    "To complete this task, perform the following steps:\r\n",
    "\r\n",
    "Create an instance of a Gaussian Naive Bayes classifier.\r\n",
    "\r\n",
    "Train the classifier by passing the training data.\r\n",
    "\r\n",
    "Measure the training time."
   ]
  },
  {
   "cell_type": "markdown",
   "metadata": {},
   "source": [
    "#### Create a Gaussian Naive Bayes classifier"
   ]
  },
  {
   "cell_type": "code",
   "execution_count": 32,
   "metadata": {},
   "outputs": [],
   "source": [
    "nb_classifier = GaussianNB()"
   ]
  },
  {
   "cell_type": "markdown",
   "metadata": {},
   "source": [
    "#### Measure the training time"
   ]
  },
  {
   "cell_type": "code",
   "execution_count": 33,
   "metadata": {},
   "outputs": [
    {
     "data": {
      "text/plain": [
       "0.28127312660217285"
      ]
     },
     "execution_count": 33,
     "metadata": {},
     "output_type": "execute_result"
    }
   ],
   "source": [
    "start_time = time.time()\n",
    "nb_classifier.fit(X_train, y_train)\n",
    "end_time = time.time()\n",
    "training_timeNB = end_time - start_time\n",
    "training_timeNB"
   ]
  },
  {
   "cell_type": "markdown",
   "metadata": {},
   "source": [
    "### Task 11: Test Naive Bayes\n",
    "\n",
    "Test the Gaussian Naive Bayes classifier.\r\n",
    "\r\n",
    "Measure the accuracy, F1 score, precision, and recall for the Naive Bayes classifier."
   ]
  },
  {
   "cell_type": "markdown",
   "metadata": {},
   "source": [
    "#### Make predictions on the test dataset"
   ]
  },
  {
   "cell_type": "code",
   "execution_count": 34,
   "metadata": {},
   "outputs": [],
   "source": [
    "y_pred = nb_classifier.predict(X_test)"
   ]
  },
  {
   "cell_type": "code",
   "execution_count": 35,
   "metadata": {},
   "outputs": [
    {
     "data": {
      "text/plain": [
       "2    160654\n",
       "3    111372\n",
       "4      4071\n",
       "1      2213\n",
       "0        42\n",
       "Name: count, dtype: int64"
      ]
     },
     "execution_count": 35,
     "metadata": {},
     "output_type": "execute_result"
    }
   ],
   "source": [
    "pd.Series(y_pred).value_counts()"
   ]
  },
  {
   "cell_type": "markdown",
   "metadata": {},
   "source": [
    "#### Calculate and print the accuracy, F1 sore, precision, and recall"
   ]
  },
  {
   "cell_type": "code",
   "execution_count": 36,
   "metadata": {},
   "outputs": [
    {
     "name": "stdout",
     "output_type": "stream",
     "text": [
      "Training time: 0.28127312660217285\n",
      "Accuracy: 0.9912089728114043\n",
      "F1 Score: 0.9923627270670682\n",
      "Precision: 0.9948001931044119\n",
      "Recall: 0.9912089728114043\n"
     ]
    }
   ],
   "source": [
    "accuracyNB = accuracy_score(y_test, y_pred)\n",
    "f1 = f1_score(y_test, y_pred, average='weighted')\n",
    "precision = precision_score(y_test, y_pred, \n",
    "average='weighted')\n",
    "recall = recall_score(y_test, y_pred, average='weighted')\n",
    "print(\"Training time:\", training_timeNB)\n",
    "print(\"Accuracy:\", accuracyNB)\n",
    "print(\"F1 Score:\", f1)\n",
    "print(\"Precision:\", precision)\n",
    "print(\"Recall:\", recall)"
   ]
  },
  {
   "cell_type": "markdown",
   "metadata": {},
   "source": [
    "### Task 12: Compare the Accuracy and Training Times\n",
    "\n",
    "Now that you’ve trained and tested three machine learning models (random forest, decision tree, and Naive Bayes), you need to compare them to determine which is the most accurate in detecting attacks. You also need to compare the training time of the three models because it’s essential to determine which model takes the least time to train.\r\n",
    "\r\n",
    "For this, you need to perform the following steps:\r\n",
    "\r\n",
    "Create two lists to store the accuracy scores and training times for the three different machine learning algorithms. These lists will be used to display the results in the form of bar plots later.\r\n",
    "\r\n",
    "Create a list to store the names of the three algorithms: Random Forest, Decision Tree, and Gaussian Naive Bayes. These names will be used as labels on the x-axis of the bar plots.\r\n",
    "\r\n",
    "Create a bar plot for accuracy. Set labels and titles for the bar plot.\r\n",
    "\r\n",
    "Create a bar plot for training time. Set labels and titles for the bar plot."
   ]
  },
  {
   "cell_type": "markdown",
   "metadata": {},
   "source": [
    "#### Accuracy scores and training time of the three algorithms"
   ]
  },
  {
   "cell_type": "code",
   "execution_count": 37,
   "metadata": {},
   "outputs": [],
   "source": [
    "accuracy_scores = [accuracyRFC, accuracyDT, accuracyNB]\n",
    "train_times = [training_timeRFC, training_timeDT, training_timeNB]"
   ]
  },
  {
   "cell_type": "markdown",
   "metadata": {},
   "source": [
    "#### Names of the algorithms"
   ]
  },
  {
   "cell_type": "code",
   "execution_count": 38,
   "metadata": {},
   "outputs": [],
   "source": [
    "algorithm_names = ['Random Forest', 'Decision Tree', 'Gaussian Naive Bayes']"
   ]
  },
  {
   "cell_type": "markdown",
   "metadata": {},
   "source": [
    "#### Create a bar plot for accuracy"
   ]
  },
  {
   "cell_type": "code",
   "execution_count": 39,
   "metadata": {},
   "outputs": [
    {
     "data": {
      "image/png": "[encoded data removed]",
      "text/plain": [
       "<Figure size 640x480 with 1 Axes>"
      ]
     },
     "metadata": {},
     "output_type": "display_data"
    }
   ],
   "source": [
    "plt.bar(algorithm_names, accuracy_scores)\n",
    "plt.xlabel('Algorithms')\n",
    "plt.ylabel('Accuracy')\n",
    "plt.title('Accuracy Comparison of Algorithms')\n",
    "plt.show()"
   ]
  },
  {
   "cell_type": "markdown",
   "metadata": {},
   "source": [
    "#### Create a bar plot for training time"
   ]
  },
  {
   "cell_type": "code",
   "execution_count": 40,
   "metadata": {},
   "outputs": [
    {
     "data": {
      "image/png": "[encoded data removed]",
      "text/plain": [
       "<Figure size 640x480 with 1 Axes>"
      ]
     },
     "metadata": {},
     "output_type": "display_data"
    }
   ],
   "source": [
    "plt.bar(algorithm_names, train_times)\n",
    "plt.xlabel('Algorithms')\n",
    "plt.ylabel('Training Time')\n",
    "plt.title('Training Time Comparison of Algorithms')\n",
    "plt.show()"
   ]
  },
  {
   "cell_type": "code",
   "execution_count": null,
   "metadata": {},
   "outputs": [],
   "source": []
  }
 ],
 "metadata": {
  "kernelspec": {
   "display_name": "Python 3 (ipykernel)",
   "language": "python",
   "name": "python3"
  },
  "language_info": {
   "codemirror_mode": {
    "name": "ipython",
    "version": 3
   },
   "file_extension": ".py",
   "mimetype": "text/x-python",
   "name": "python",
   "nbconvert_exporter": "python",
   "pygments_lexer": "ipython3",
   "version": "3.8.10"
  },
  "vscode": {
   "interpreter": {
    "hash": "916dbcbb3f70747c44a77c7bcd40155683ae19c65e1c03b4aa3499c5328201f1"
   }
  }
 },
 "nbformat": 4,
 "nbformat_minor": 4
}
